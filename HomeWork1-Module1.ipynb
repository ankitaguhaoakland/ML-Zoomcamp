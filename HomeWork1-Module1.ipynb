{
 "cells": [
  {
   "cell_type": "code",
   "execution_count": 5,
   "id": "06bffdf8-cabb-430e-8902-f05114df573a",
   "metadata": {},
   "outputs": [
    {
     "name": "stdout",
     "output_type": "stream",
     "text": [
      "Download complete!\n"
     ]
    }
   ],
   "source": [
    "import requests\n",
    "\n",
    "# URL of the file\n",
    "url = 'https://raw.githubusercontent.com/alexeygrigorev/datasets/master/laptops.csv'\n",
    "\n",
    "# Send a GET request to the URL\n",
    "response = requests.get(url)\n",
    "\n",
    "# Save the file\n",
    "with open('laptops.csv', 'wb') as file:\n",
    "    file.write(response.content)\n",
    "\n",
    "print(\"Download complete!\")\n"
   ]
  },
  {
   "cell_type": "code",
   "execution_count": 6,
   "id": "63c742b1-6dc8-48d8-aaba-383e84741ad2",
   "metadata": {},
   "outputs": [
    {
     "data": {
      "text/html": [
       "<div>\n",
       "<style scoped>\n",
       "    .dataframe tbody tr th:only-of-type {\n",
       "        vertical-align: middle;\n",
       "    }\n",
       "\n",
       "    .dataframe tbody tr th {\n",
       "        vertical-align: top;\n",
       "    }\n",
       "\n",
       "    .dataframe thead th {\n",
       "        text-align: right;\n",
       "    }\n",
       "</style>\n",
       "<table border=\"1\" class=\"dataframe\">\n",
       "  <thead>\n",
       "    <tr style=\"text-align: right;\">\n",
       "      <th></th>\n",
       "      <th>Laptop</th>\n",
       "      <th>Status</th>\n",
       "      <th>Brand</th>\n",
       "      <th>Model</th>\n",
       "      <th>CPU</th>\n",
       "      <th>RAM</th>\n",
       "      <th>Storage</th>\n",
       "      <th>Storage type</th>\n",
       "      <th>GPU</th>\n",
       "      <th>Screen</th>\n",
       "      <th>Touch</th>\n",
       "      <th>Final Price</th>\n",
       "    </tr>\n",
       "  </thead>\n",
       "  <tbody>\n",
       "    <tr>\n",
       "      <th>0</th>\n",
       "      <td>ASUS ExpertBook B1 B1502CBA-EJ0436X Intel Core...</td>\n",
       "      <td>New</td>\n",
       "      <td>Asus</td>\n",
       "      <td>ExpertBook</td>\n",
       "      <td>Intel Core i5</td>\n",
       "      <td>8</td>\n",
       "      <td>512</td>\n",
       "      <td>SSD</td>\n",
       "      <td>NaN</td>\n",
       "      <td>15.6</td>\n",
       "      <td>No</td>\n",
       "      <td>1009.00</td>\n",
       "    </tr>\n",
       "    <tr>\n",
       "      <th>1</th>\n",
       "      <td>Alurin Go Start Intel Celeron N4020/8GB/256GB ...</td>\n",
       "      <td>New</td>\n",
       "      <td>Alurin</td>\n",
       "      <td>Go</td>\n",
       "      <td>Intel Celeron</td>\n",
       "      <td>8</td>\n",
       "      <td>256</td>\n",
       "      <td>SSD</td>\n",
       "      <td>NaN</td>\n",
       "      <td>15.6</td>\n",
       "      <td>No</td>\n",
       "      <td>299.00</td>\n",
       "    </tr>\n",
       "    <tr>\n",
       "      <th>2</th>\n",
       "      <td>ASUS ExpertBook B1 B1502CBA-EJ0424X Intel Core...</td>\n",
       "      <td>New</td>\n",
       "      <td>Asus</td>\n",
       "      <td>ExpertBook</td>\n",
       "      <td>Intel Core i3</td>\n",
       "      <td>8</td>\n",
       "      <td>256</td>\n",
       "      <td>SSD</td>\n",
       "      <td>NaN</td>\n",
       "      <td>15.6</td>\n",
       "      <td>No</td>\n",
       "      <td>789.00</td>\n",
       "    </tr>\n",
       "    <tr>\n",
       "      <th>3</th>\n",
       "      <td>MSI Katana GF66 12UC-082XES Intel Core i7-1270...</td>\n",
       "      <td>New</td>\n",
       "      <td>MSI</td>\n",
       "      <td>Katana</td>\n",
       "      <td>Intel Core i7</td>\n",
       "      <td>16</td>\n",
       "      <td>1000</td>\n",
       "      <td>SSD</td>\n",
       "      <td>RTX 3050</td>\n",
       "      <td>15.6</td>\n",
       "      <td>No</td>\n",
       "      <td>1199.00</td>\n",
       "    </tr>\n",
       "    <tr>\n",
       "      <th>4</th>\n",
       "      <td>HP 15S-FQ5085NS Intel Core i5-1235U/16GB/512GB...</td>\n",
       "      <td>New</td>\n",
       "      <td>HP</td>\n",
       "      <td>15S</td>\n",
       "      <td>Intel Core i5</td>\n",
       "      <td>16</td>\n",
       "      <td>512</td>\n",
       "      <td>SSD</td>\n",
       "      <td>NaN</td>\n",
       "      <td>15.6</td>\n",
       "      <td>No</td>\n",
       "      <td>669.01</td>\n",
       "    </tr>\n",
       "    <tr>\n",
       "      <th>5</th>\n",
       "      <td>MSI Crosshair 17 C12VF-264XES Intel Core i7-12...</td>\n",
       "      <td>New</td>\n",
       "      <td>MSI</td>\n",
       "      <td>Crosshair</td>\n",
       "      <td>Intel Core i7</td>\n",
       "      <td>32</td>\n",
       "      <td>1000</td>\n",
       "      <td>SSD</td>\n",
       "      <td>RTX 4060</td>\n",
       "      <td>17.3</td>\n",
       "      <td>No</td>\n",
       "      <td>1699.00</td>\n",
       "    </tr>\n",
       "    <tr>\n",
       "      <th>6</th>\n",
       "      <td>Lenovo Thinkpad E14 Gen 4 AMD Ryzen 5 5625U/8G...</td>\n",
       "      <td>New</td>\n",
       "      <td>Lenovo</td>\n",
       "      <td>ThinkPad</td>\n",
       "      <td>AMD Ryzen 5</td>\n",
       "      <td>8</td>\n",
       "      <td>256</td>\n",
       "      <td>SSD</td>\n",
       "      <td>NaN</td>\n",
       "      <td>14.0</td>\n",
       "      <td>No</td>\n",
       "      <td>909.00</td>\n",
       "    </tr>\n",
       "    <tr>\n",
       "      <th>7</th>\n",
       "      <td>ASUS VivoBook 15 F515JA-EJ2882W Intel Core i7-...</td>\n",
       "      <td>New</td>\n",
       "      <td>Asus</td>\n",
       "      <td>VivoBook</td>\n",
       "      <td>Intel Core i7</td>\n",
       "      <td>8</td>\n",
       "      <td>512</td>\n",
       "      <td>SSD</td>\n",
       "      <td>NaN</td>\n",
       "      <td>15.6</td>\n",
       "      <td>No</td>\n",
       "      <td>809.01</td>\n",
       "    </tr>\n",
       "    <tr>\n",
       "      <th>8</th>\n",
       "      <td>Medion Akoya E15415 Intel Core i5-10210U/8GB/2...</td>\n",
       "      <td>New</td>\n",
       "      <td>Medion</td>\n",
       "      <td>Akoya</td>\n",
       "      <td>Intel Core i5</td>\n",
       "      <td>8</td>\n",
       "      <td>256</td>\n",
       "      <td>SSD</td>\n",
       "      <td>NaN</td>\n",
       "      <td>15.6</td>\n",
       "      <td>No</td>\n",
       "      <td>519.00</td>\n",
       "    </tr>\n",
       "    <tr>\n",
       "      <th>9</th>\n",
       "      <td>HP Victus 16-d1038ns Intel Core i7-12700H/16GB...</td>\n",
       "      <td>New</td>\n",
       "      <td>HP</td>\n",
       "      <td>Victus</td>\n",
       "      <td>Intel Core i7</td>\n",
       "      <td>16</td>\n",
       "      <td>512</td>\n",
       "      <td>SSD</td>\n",
       "      <td>RTX 3050</td>\n",
       "      <td>16.1</td>\n",
       "      <td>No</td>\n",
       "      <td>1149.00</td>\n",
       "    </tr>\n",
       "  </tbody>\n",
       "</table>\n",
       "</div>"
      ],
      "text/plain": [
       "                                              Laptop Status   Brand  \\\n",
       "0  ASUS ExpertBook B1 B1502CBA-EJ0436X Intel Core...    New    Asus   \n",
       "1  Alurin Go Start Intel Celeron N4020/8GB/256GB ...    New  Alurin   \n",
       "2  ASUS ExpertBook B1 B1502CBA-EJ0424X Intel Core...    New    Asus   \n",
       "3  MSI Katana GF66 12UC-082XES Intel Core i7-1270...    New     MSI   \n",
       "4  HP 15S-FQ5085NS Intel Core i5-1235U/16GB/512GB...    New      HP   \n",
       "5  MSI Crosshair 17 C12VF-264XES Intel Core i7-12...    New     MSI   \n",
       "6  Lenovo Thinkpad E14 Gen 4 AMD Ryzen 5 5625U/8G...    New  Lenovo   \n",
       "7  ASUS VivoBook 15 F515JA-EJ2882W Intel Core i7-...    New    Asus   \n",
       "8  Medion Akoya E15415 Intel Core i5-10210U/8GB/2...    New  Medion   \n",
       "9  HP Victus 16-d1038ns Intel Core i7-12700H/16GB...    New      HP   \n",
       "\n",
       "        Model            CPU  RAM  Storage Storage type       GPU  Screen  \\\n",
       "0  ExpertBook  Intel Core i5    8      512          SSD       NaN    15.6   \n",
       "1          Go  Intel Celeron    8      256          SSD       NaN    15.6   \n",
       "2  ExpertBook  Intel Core i3    8      256          SSD       NaN    15.6   \n",
       "3      Katana  Intel Core i7   16     1000          SSD  RTX 3050    15.6   \n",
       "4         15S  Intel Core i5   16      512          SSD       NaN    15.6   \n",
       "5   Crosshair  Intel Core i7   32     1000          SSD  RTX 4060    17.3   \n",
       "6    ThinkPad    AMD Ryzen 5    8      256          SSD       NaN    14.0   \n",
       "7    VivoBook  Intel Core i7    8      512          SSD       NaN    15.6   \n",
       "8       Akoya  Intel Core i5    8      256          SSD       NaN    15.6   \n",
       "9      Victus  Intel Core i7   16      512          SSD  RTX 3050    16.1   \n",
       "\n",
       "  Touch  Final Price  \n",
       "0    No      1009.00  \n",
       "1    No       299.00  \n",
       "2    No       789.00  \n",
       "3    No      1199.00  \n",
       "4    No       669.01  \n",
       "5    No      1699.00  \n",
       "6    No       909.00  \n",
       "7    No       809.01  \n",
       "8    No       519.00  \n",
       "9    No      1149.00  "
      ]
     },
     "execution_count": 6,
     "metadata": {},
     "output_type": "execute_result"
    }
   ],
   "source": [
    "import pandas as pd\n",
    "\n",
    "# Read the CSV file\n",
    "df = pd.read_csv('laptops.csv')\n",
    "\n",
    "# Display the first few rows\n",
    "df.head(10)\n"
   ]
  },
  {
   "cell_type": "markdown",
   "id": "ff1d18f9-01dc-45ac-b551-060142664cef",
   "metadata": {},
   "source": [
    "## Q2. Records count\n",
    "How many records are in the dataset?\n",
    "\n",
    "- 12\n",
    "- 1000\n",
    "- 2160\n",
    "- 12160"
   ]
  },
  {
   "cell_type": "code",
   "execution_count": 7,
   "id": "bbda0d05-594b-4825-b2ef-76f0319ad75f",
   "metadata": {},
   "outputs": [
    {
     "name": "stdout",
     "output_type": "stream",
     "text": [
      "Number of records (using shape): 2160\n",
      "Number of records (using len): 2160\n"
     ]
    }
   ],
   "source": [
    "# Method 1: Using shape\n",
    "num_records_shape = df.shape[0]\n",
    "print(f'Number of records (using shape): {num_records_shape}')\n",
    "\n",
    "# Method 2: Using len()\n",
    "num_records_len = len(df)\n",
    "print(f'Number of records (using len): {num_records_len}')"
   ]
  },
  {
   "cell_type": "markdown",
   "id": "101d55e0-1f8d-4309-a08e-ccefee3a09c0",
   "metadata": {},
   "source": [
    "## Q3. Laptop brands\n",
    "How many laptop brands are presented in the dataset?\n",
    "\n",
    "- 12\n",
    "- 27\n",
    "- 28\n",
    "- 2160"
   ]
  },
  {
   "cell_type": "code",
   "execution_count": 9,
   "id": "1b308aa1-d0cc-46a0-bfe2-6a01c6326e45",
   "metadata": {},
   "outputs": [
    {
     "name": "stdout",
     "output_type": "stream",
     "text": [
      "Number of unique laptop brands in column \"Brand\": 27\n"
     ]
    }
   ],
   "source": [
    "# Assuming your DataFrame is named df and the column is 'column_name'\n",
    "laptop_brands = df['Brand'].nunique()\n",
    "print(f'Number of unique laptop brands in column \"Brand\": {laptop_brands}')\n"
   ]
  },
  {
   "cell_type": "markdown",
   "id": "201a24c2-a060-4c4b-9c60-2c46df1ccce0",
   "metadata": {},
   "source": [
    "## Q4. Missing values\n",
    "How many columns in the dataset have missing values?\n",
    "\n",
    "- 0\n",
    "- 1\n",
    "- 2\n",
    "- 3"
   ]
  },
  {
   "cell_type": "code",
   "execution_count": 10,
   "id": "46346a29-236e-43b4-a172-cdfaf74fb728",
   "metadata": {},
   "outputs": [
    {
     "name": "stdout",
     "output_type": "stream",
     "text": [
      "Number of columns with missing values: 3\n"
     ]
    }
   ],
   "source": [
    "# Find columns with missing values\n",
    "missing_columns = df.isnull().any()\n",
    "\n",
    "# Count the number of columns with missing values\n",
    "num_missing_columns = missing_columns.sum()\n",
    "\n",
    "print(f'Number of columns with missing values: {num_missing_columns}')"
   ]
  },
  {
   "cell_type": "markdown",
   "id": "033b23be-bcc4-4dff-81c2-b7994603f6ad",
   "metadata": {},
   "source": [
    "## Q5. Maximum final price\n",
    "What's the maximum final price of Dell notebooks in the dataset?\n",
    "\n",
    "- 869\n",
    "- 3691\n",
    "- 3849\n",
    "- 3936"
   ]
  },
  {
   "cell_type": "code",
   "execution_count": 56,
   "id": "7a93c00d-fb13-4a39-8b05-c6f0d9509b00",
   "metadata": {},
   "outputs": [
    {
     "name": "stdout",
     "output_type": "stream",
     "text": [
      "     Brand  Final Price\n",
      "161   Dell       599.00\n",
      "271   Dell       690.15\n",
      "281   Dell       889.00\n",
      "319   Dell       789.00\n",
      "328   Dell       869.00\n",
      "...    ...          ...\n",
      "1843  Dell       420.74\n",
      "1844  Dell       511.59\n",
      "1845  Dell       549.93\n",
      "1846  Dell       699.00\n",
      "1847  Dell      1086.88\n",
      "\n",
      "[84 rows x 2 columns]\n",
      "3936.0\n"
     ]
    }
   ],
   "source": [
    "# Selected Columns\n",
    "selected_columns_df = df[['Brand', 'Final Price']]\n",
    "#print(selected_columns_df)\n",
    "\n",
    "# Specify the category you want to filter by\n",
    "category_to_filter_Brand = 'Dell'\n",
    "#Final_Price = selected_columns_df['Final Price'].max()\n",
    "\n",
    "# Filter the DataFrame for the specific values\n",
    "filtered_df = selected_columns_df[selected_columns_df['Brand'] == category_to_filter_Brand] #& selected_columns_df['Final Price'].max()\n",
    "print(filtered_df)\n",
    "\n",
    "max_value = filtered_df['Final Price'].max()\n",
    "print(max_value)\n"
   ]
  },
  {
   "cell_type": "markdown",
   "id": "d53620f0-50b3-4090-9d22-58830887f51e",
   "metadata": {},
   "source": [
    "## Q6. Median value of Screen\n",
    "- Find the median value of *Screen* column in the dataset.\n",
    "- Next, calculate the most frequent value of the same Screen column.\n",
    "- Use fillna method to fill the missing values in Screen column with the most frequent value from the previous step.\n",
    "- Now, calculate the median value of Screen once again."
   ]
  },
  {
   "cell_type": "code",
   "execution_count": 57,
   "id": "2b4e71d3-40c7-4a5d-bf63-ac68889ecf3e",
   "metadata": {},
   "outputs": [
    {
     "name": "stdout",
     "output_type": "stream",
     "text": [
      "Median value of Screen: 15.6\n"
     ]
    }
   ],
   "source": [
    "# Calculate the median of a specific column\n",
    "median_value = df['Screen'].median()\n",
    "\n",
    "print(\"Median value of Screen:\", median_value)"
   ]
  },
  {
   "cell_type": "code",
   "execution_count": 60,
   "id": "4569de1b-0b28-42de-b1d8-73ef65dbd687",
   "metadata": {},
   "outputs": [
    {
     "name": "stdout",
     "output_type": "stream",
     "text": [
      "Most frequent value of Screen: 15.6\n"
     ]
    }
   ],
   "source": [
    "# Calculate the most frequent value (mode) of a specific column\n",
    "most_frequent_value = df['Screen'].mode()[0]\n",
    "\n",
    "print(\"Most frequent value of Screen:\", most_frequent_value)"
   ]
  },
  {
   "cell_type": "code",
   "execution_count": 69,
   "id": "a9fdfff3-3d05-4cd0-b405-d8390ac0848f",
   "metadata": {},
   "outputs": [
    {
     "name": "stdout",
     "output_type": "stream",
     "text": [
      "Number of NaN values in Column Screen: 0\n",
      "DataFrame after filling NaN values with the most frequent value:\n",
      "0       15.6\n",
      "1       15.6\n",
      "2       15.6\n",
      "3       15.6\n",
      "4       15.6\n",
      "        ... \n",
      "2155    17.3\n",
      "2156    17.3\n",
      "2157    17.3\n",
      "2158    13.4\n",
      "2159    13.4\n",
      "Name: Screen, Length: 2160, dtype: float64\n"
     ]
    }
   ],
   "source": [
    "# Count the number of NaN values in a specific column\n",
    "na_count = df['Screen'].isna().sum()\n",
    "\n",
    "print(\"Number of NaN values in Column Screen:\", na_count)\n",
    "\n",
    "# Use fillna() to replace NaN values with the most frequent value\n",
    "df['Screen'] = df['Screen'].fillna(most_frequent_value)\n",
    "\n",
    "print(\"DataFrame after filling NaN values with the most frequent value:\")\n",
    "print(df['Screen'])"
   ]
  },
  {
   "cell_type": "code",
   "execution_count": 70,
   "id": "7af37758-d531-4f0c-953b-e1e8cf6a3a27",
   "metadata": {},
   "outputs": [
    {
     "name": "stdout",
     "output_type": "stream",
     "text": [
      "Median value of Screen: 15.6\n"
     ]
    }
   ],
   "source": [
    "# New Median Value Again\n",
    "new_median_value = df['Screen'].median()\n",
    "print(\"Median value of Screen:\", new_median_value)"
   ]
  },
  {
   "cell_type": "markdown",
   "id": "2c5c377b-3b91-42af-b6b9-02409ddb392c",
   "metadata": {},
   "source": [
    "## Has it changed?\n",
    "\n",
    "Hint: refer to existing mode and median functions to complete the task.\n",
    "\n",
    "- Yes\n",
    "- No"
   ]
  },
  {
   "cell_type": "markdown",
   "id": "2c642187-6b52-493c-bb2d-548c06561f5a",
   "metadata": {},
   "source": [
    "- No, the median value is still 15.6"
   ]
  },
  {
   "cell_type": "markdown",
   "id": "23007dac-2628-40ce-977f-1a837e02197e",
   "metadata": {},
   "source": [
    "## Q7. Sum of weights\n",
    "1. Select all the \"Innjoo\" laptops from the dataset.\n",
    "2. Select only columns RAM, Storage, Screen.\n",
    "3. Get the underlying NumPy array. Let's call it X.\n",
    "4. Compute matrix-matrix multiplication between the transpose of X and X. To get the transpose, use X.T. Let's call the result XTX.\n",
    "5. Compute the inverse of XTX.\n",
    "6. Create an array y with values [1100, 1300, 800, 900, 1000, 1100].\n",
    "7. Multiply the inverse of XTX with the transpose of X, and then multiply the result by y. Call the result w.\n",
    "8. What's the sum of all the elements of the result?\n",
    "Note: You just implemented linear regression. We'll talk about it in the next lesson.\n",
    "\n",
    "- 0.43\n",
    "- 45.29\n",
    "- 45.58\n",
    "- 91.30"
   ]
  },
  {
   "cell_type": "code",
   "execution_count": 72,
   "id": "ae799973-d5a0-49fd-a2a5-a06c0c2b2f3c",
   "metadata": {},
   "outputs": [
    {
     "name": "stdout",
     "output_type": "stream",
     "text": [
      "Filtered DataFrame:\n",
      "                                                 Laptop Status   Brand Model  \\\n",
      "1478  InnJoo Voom Excellence Intel Celeron N4020/8GB...    New  Innjoo  Voom   \n",
      "1479  InnJoo Voom Excellence Pro Intel Celeron N4020...    New  Innjoo  Voom   \n",
      "1480  Innjoo Voom Intel Celeron N3350/4GB/64GB eMMC/...    New  Innjoo  Voom   \n",
      "1481  Innjoo Voom Laptop Max Intel Celeron N3350/6GB...    New  Innjoo  Voom   \n",
      "1482  Innjoo Voom Laptop Pro Intel Celeron N3350/6GB...    New  Innjoo  Voom   \n",
      "1483  Innjoo Voom Pro Intel Celeron N3350/6GB/128GB ...    New  Innjoo  Voom   \n",
      "\n",
      "                CPU  RAM  Storage Storage type  GPU  Screen Touch  \\\n",
      "1478  Intel Celeron    8      256          SSD  NaN    15.6    No   \n",
      "1479  Intel Celeron    8      512          SSD  NaN    15.6    No   \n",
      "1480  Intel Celeron    4       64         eMMC  NaN    14.1    No   \n",
      "1481  Intel Celeron    6       64         eMMC  NaN    14.1    No   \n",
      "1482  Intel Celeron    6      128          SSD  NaN    14.1    No   \n",
      "1483  Intel Celeron    6      128         eMMC  NaN    14.1    No   \n",
      "\n",
      "      Final Price  Column1_filled  \n",
      "1478       311.37            15.6  \n",
      "1479       392.55            15.6  \n",
      "1480       251.40            14.1  \n",
      "1481       383.61            14.1  \n",
      "1482       317.02            14.1  \n",
      "1483       431.38            14.1  \n"
     ]
    }
   ],
   "source": [
    "# 1. Filter the rows where the 'Laptop' column contains the word 'Innjoo'\n",
    "filtered_df = df[df['Laptop'].str.contains('Innjoo', case=False, na=False)]\n",
    "\n",
    "print(\"Filtered DataFrame:\")\n",
    "print(filtered_df)"
   ]
  },
  {
   "cell_type": "code",
   "execution_count": 74,
   "id": "28411652-4b5b-4024-ac80-abea76a7f9a0",
   "metadata": {},
   "outputs": [
    {
     "name": "stdout",
     "output_type": "stream",
     "text": [
      "DataFrame with selected columns:\n",
      "                                                 Laptop  RAM  Storage  Screen\n",
      "1478  InnJoo Voom Excellence Intel Celeron N4020/8GB...    8      256    15.6\n",
      "1479  InnJoo Voom Excellence Pro Intel Celeron N4020...    8      512    15.6\n",
      "1480  Innjoo Voom Intel Celeron N3350/4GB/64GB eMMC/...    4       64    14.1\n",
      "1481  Innjoo Voom Laptop Max Intel Celeron N3350/6GB...    6       64    14.1\n",
      "1482  Innjoo Voom Laptop Pro Intel Celeron N3350/6GB...    6      128    14.1\n",
      "1483  Innjoo Voom Pro Intel Celeron N3350/6GB/128GB ...    6      128    14.1\n"
     ]
    }
   ],
   "source": [
    "# 2. Select specific columns ('Product' and 'Price') from the DataFrame\n",
    "selected_columns = filtered_df[['Laptop', 'RAM', 'Storage', 'Screen']]\n",
    "\n",
    "print(\"DataFrame with selected columns:\")\n",
    "print(selected_columns)"
   ]
  },
  {
   "cell_type": "code",
   "execution_count": 77,
   "id": "c23c6d58-9e97-4355-ad12-5b6c8b131579",
   "metadata": {},
   "outputs": [
    {
     "name": "stdout",
     "output_type": "stream",
     "text": [
      "Underlying NumPy array for the entire DataFrame:\n",
      "[['InnJoo Voom Excellence Intel Celeron N4020/8GB/256GB SSD/15.6\"' 8 256\n",
      "  15.6]\n",
      " ['InnJoo Voom Excellence Pro Intel Celeron N4020/8GB/512GB SSD/15.6\"' 8\n",
      "  512 15.6]\n",
      " ['Innjoo Voom Intel Celeron N3350/4GB/64GB eMMC/14.1\"' 4 64 14.1]\n",
      " ['Innjoo Voom Laptop Max Intel Celeron N3350/6GB/64GB eMMC/14.1\"' 6 64\n",
      "  14.1]\n",
      " ['Innjoo Voom Laptop Pro Intel Celeron N3350/6GB/128GB SSD/14.1\"' 6 128\n",
      "  14.1]\n",
      " ['Innjoo Voom Pro Intel Celeron N3350/6GB/128GB eMMC/14.1\"' 6 128 14.1]]\n"
     ]
    }
   ],
   "source": [
    "# 3. Get the underlying NumPy array for the entire DataFrame\n",
    "X = selected_columns.to_numpy()\n",
    "\n",
    "print(\"Underlying NumPy array for the entire DataFrame:\")\n",
    "print(X)"
   ]
  },
  {
   "cell_type": "code",
   "execution_count": 79,
   "id": "ac297a9c-ce7b-4e48-8346-0cacd0552596",
   "metadata": {},
   "outputs": [
    {
     "name": "stdout",
     "output_type": "stream",
     "text": [
      "\n",
      "Matrix multiplication result (XTX):\n",
      "[[7.23420000e+05 2.56347520e+07 5.14286600e+05]\n",
      " [2.56347520e+07 1.04973173e+09 1.99103300e+07]\n",
      " [5.14286600e+05 1.99103300e+07 5.00128313e+05]]\n"
     ]
    }
   ],
   "source": [
    "# 4. Select only the numerical columns for matrix multiplication\n",
    "X = df[['RAM', 'Storage', 'Screen']].to_numpy()\n",
    "\n",
    "# Compute the transpose of X\n",
    "X_T = X.T\n",
    "\n",
    "# Compute matrix-matrix multiplication between X.T and X\n",
    "XTX = X_T @ X  # or np.dot(X_T, X)\n",
    "\n",
    "print(\"\\nMatrix multiplication result (XTX):\")\n",
    "print(XTX)"
   ]
  },
  {
   "cell_type": "code",
   "execution_count": 81,
   "id": "e4a18e9d-8214-4de6-9700-2dcb225b119a",
   "metadata": {},
   "outputs": [
    {
     "name": "stdout",
     "output_type": "stream",
     "text": [
      "Inverse of XTX:\n",
      "[[ 1.09915475e-05 -2.20639891e-07 -2.51893871e-06]\n",
      " [-2.20639891e-07  8.31868438e-09 -1.04284462e-07]\n",
      " [-2.51893871e-06 -1.04284462e-07  8.74134571e-06]]\n"
     ]
    }
   ],
   "source": [
    "# 5. Compute the inverse of XTX\n",
    "import numpy as np\n",
    "try:\n",
    "    XTX_inv = np.linalg.inv(XTX)\n",
    "    print(\"Inverse of XTX:\")\n",
    "    print(XTX_inv)\n",
    "except np.linalg.LinAlgError:\n",
    "    print(\"XTX is a singular matrix and cannot be inverted.\")"
   ]
  },
  {
   "cell_type": "code",
   "execution_count": 100,
   "id": "e59f4f29-def4-40b0-a786-7a79281ed398",
   "metadata": {},
   "outputs": [
    {
     "name": "stdout",
     "output_type": "stream",
     "text": [
      "Array y:\n",
      "[1100 1300  800  900 1000 1100]\n"
     ]
    }
   ],
   "source": [
    "# 6. Create an array y with the specified values\n",
    "y = np.array([1100, 1300, 800, 900, 1000, 1100])\n",
    "\n",
    "print(\"Array y:\")\n",
    "print(y)"
   ]
  },
  {
   "cell_type": "code",
   "execution_count": 101,
   "id": "611df3ec-3c12-4426-b89b-9137d69aa182",
   "metadata": {},
   "outputs": [
    {
     "ename": "ValueError",
     "evalue": "operands could not be broadcast together with shapes (3,3) (6,) ",
     "output_type": "error",
     "traceback": [
      "\u001b[1;31m---------------------------------------------------------------------------\u001b[0m",
      "\u001b[1;31mValueError\u001b[0m                                Traceback (most recent call last)",
      "Cell \u001b[1;32mIn[101], line 2\u001b[0m\n\u001b[0;32m      1\u001b[0m \u001b[38;5;66;03m# 7. Multiply the inverse of XTX with the transpose of X, and then multiply the result by y. Call the result w.\u001b[39;00m\n\u001b[1;32m----> 2\u001b[0m w \u001b[38;5;241m=\u001b[39m (XTX_inv \u001b[38;5;241m*\u001b[39m XTX) \u001b[38;5;241m*\u001b[39m y\n\u001b[0;32m      3\u001b[0m \u001b[38;5;28mprint\u001b[39m(w)\n",
      "\u001b[1;31mValueError\u001b[0m: operands could not be broadcast together with shapes (3,3) (6,) "
     ]
    }
   ],
   "source": [
    "# 7. Multiply the inverse of XTX with the transpose of X, and then multiply the result by y. Call the result w.\n",
    "w = (XTX_inv * XTX) * y\n",
    "print(w)"
   ]
  },
  {
   "cell_type": "code",
   "execution_count": 103,
   "id": "c52bd751-8f26-4161-9058-33a552b1d95e",
   "metadata": {},
   "outputs": [
    {
     "name": "stdout",
     "output_type": "stream",
     "text": [
      "Python version: 3.11.9 | packaged by Anaconda, Inc. | (main, Apr 19 2024, 16:40:41) [MSC v.1916 64 bit (AMD64)]\n"
     ]
    }
   ],
   "source": [
    "import sys\n",
    "print(\"Python version:\", sys.version)\n"
   ]
  },
  {
   "cell_type": "code",
   "execution_count": null,
   "id": "f8be5fda-5dbb-4b77-b840-4fc59051b515",
   "metadata": {},
   "outputs": [],
   "source": []
  }
 ],
 "metadata": {
  "kernelspec": {
   "display_name": "Python 3 (ipykernel)",
   "language": "python",
   "name": "python3"
  },
  "language_info": {
   "codemirror_mode": {
    "name": "ipython",
    "version": 3
   },
   "file_extension": ".py",
   "mimetype": "text/x-python",
   "name": "python",
   "nbconvert_exporter": "python",
   "pygments_lexer": "ipython3",
   "version": "3.11.9"
  }
 },
 "nbformat": 4,
 "nbformat_minor": 5
}
